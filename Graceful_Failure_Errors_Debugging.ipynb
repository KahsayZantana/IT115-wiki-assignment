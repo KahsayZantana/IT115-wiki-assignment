{
  "nbformat": 4,
  "nbformat_minor": 0,
  "metadata": {
    "colab": {
      "name": "Graceful Failure Errors Debugging.ipynb",
      "private_outputs": true,
      "provenance": [],
      "include_colab_link": true
    },
    "kernelspec": {
      "name": "python3",
      "display_name": "Python 3"
    },
    "language_info": {
      "name": "python"
    }
  },
  "cells": [
    {
      "cell_type": "markdown",
      "metadata": {
        "id": "view-in-github",
        "colab_type": "text"
      },
      "source": [
        "<a href=\"https://colab.research.google.com/github/KahsayZantana/IT115-wiki-assignment/blob/main/Graceful_Failure_Errors_Debugging.ipynb\" target=\"_parent\"><img src=\"https://colab.research.google.com/assets/colab-badge.svg\" alt=\"Open In Colab\"/></a>"
      ]
    },
    {
      "cell_type": "markdown",
      "source": [
        "Modified lab from the book:\n",
        "\n",
        "It is a good idea to commit as many errors as you can think of, so that you see what error messages the compiler produces. Sometimes the compiler tells you exactly what is wrong, and all you have to do is fix it. But sometimes the error messages are misleading. Over time you will develop a sense for when you can trust the compiler and when you have to figure things out yourself.\n",
        "\n",
        "Starting with the Hello World program, try out each of the following errors. After you make each change:\n",
        "   1. compile the program\n",
        "   2. read the error message (if there is one)\n",
        "   3. record the change you made using a text box in this jupyter notebook.\n",
        "   4.  record the error as well by copying and pasting it into the text box.\n",
        "\n",
        "Your final submission should contain the results of each experiment with the hello world program. After each is recorded, fix the error and move on to the next one.  This excercise will introduce you to errors you will run into for the rest of the quarter while debugging.\n",
        "\n",
        "   * Remove one of the opening curly braces.\n",
        "   * Remove one of the closing curly braces.\n",
        "   * Instead of main, write mian.\n",
        "   * Remove the word static.\n",
        "   * Remove the word public.\n",
        "   * Remove the word System.\n",
        "   * Replace println with Println.\n",
        "   * Replace println with print.\n",
        "   * Delete one parenthesis.\n",
        "   * Add an extra parenthesis."
      ],
      "metadata": {
        "id": "Dp0Fi3z7o7r2"
      }
    },
    {
      "cell_type": "code",
      "execution_count": null,
      "metadata": {
        "id": "9dO5KuXJomeC"
      },
      "outputs": [],
      "source": [
        "%%writefile Hello.java\n",
        "public class Hello {\n",
        "    public static void main (String [] args) {\n",
        "        System.out.println (\"Hello World!\");\n",
        "    }\n",
        "}"
      ]
    },
    {
      "cell_type": "code",
      "source": [
        "!javac Hello.java\n",
        "!java Hello"
      ],
      "metadata": {
        "id": "0NtPHyRdrB1l"
      },
      "execution_count": null,
      "outputs": []
    },
    {
      "cell_type": "markdown",
      "source": [
        "1. Remove one of the opening curly braces.\n",
        "\n",
        "```\n",
        "Hello.java:1: error: '{' expected\n",
        "public class Hello \n",
        "                  ^\n",
        "1 error\n",
        "Hello World!\n",
        "```\n",
        "2. Remove one of the closing curly braces.\n",
        "\n",
        "\n",
        "```\n",
        "Hello.java:5: error: reached end of file while parsing\n",
        "}\n",
        " ^\n",
        "1 error\n",
        "Hello World!\n",
        "```\n",
        "\n",
        "3. Instead of main, write mian.\n",
        "\n",
        "\n",
        "```\n",
        "Error: Main method not found in class Hello, please define the main method as:\n",
        "   public static void main(String[] args)\n",
        "or a JavaFX application class must extend javafx.application.Application\n",
        "```\n",
        "\n",
        "4. Remove the word static\n",
        "\n",
        "\n",
        "```\n",
        "Error: Main method is not static in class Hello, please define the main method as:\n",
        "   public static void main(String[] args)\n",
        "```\n",
        "\n",
        "5. Remove the word public.\n",
        "\n",
        "\n",
        "```\n",
        "Error: Main method not found in class Hello, please define the main method as:\n",
        "   public static void main(String[] args)\n",
        "or a JavaFX application class must extend javafx.application.Application\n",
        "```\n",
        "\n",
        "6. Remove the word System.\n",
        "\n",
        "\n",
        "```\n",
        "Hello.java:3: error: illegal start of expression\n",
        "       .out.println (\"Hello World!\");\n",
        "       ^\n",
        "1 error\n",
        "Error: Main method not found in class Hello, please define the main method as:\n",
        "   public static void main(String[] args)\n",
        "or a JavaFX application class must extend javafx.application.Application\n",
        "\n",
        "```\n",
        "7. Replace println with Println.\n",
        "\n",
        "\n",
        "```\n",
        "Hello.java:3: error: cannot find symbol\n",
        "        System.out.Println (\"Hello World!\");\n",
        "                  ^\n",
        "  symbol:   method Println(String)\n",
        "  location: variable out of type PrintStream\n",
        "1 error\n",
        "Error: Main method not found in class Hello, please define the main method as:\n",
        "   public static void main(String[] args)\n",
        "or a JavaFX application class must extend javafx.application.Application\n",
        "```\n",
        "\n",
        "8. Replace println with print.\n",
        "\n",
        "\n",
        "```\n",
        "No error\n",
        "```\n",
        "9. Delete one parenthesis.\n",
        "\n",
        "\n",
        "\n",
        "```\n",
        "Hello.java:2: error: ',', ')', or '[' expected\n",
        "    public static void main (String[] args {\n",
        "                                          ^\n",
        "1 error\n",
        "Hello World!\n",
        "```\n",
        "\n",
        "10. Add an extra parenthesis.\n",
        "\n",
        "\n",
        "```\n",
        "Hello.java:2: error: ';' expected\n",
        "    public static void main (String [] args)) {\n",
        "                                            ^\n",
        "1 error\n",
        "```\n",
        "\n",
        "\n",
        "\n",
        "\n",
        "\n",
        "\n",
        "\n",
        "\n",
        "\n",
        "\n",
        "\n",
        "\n",
        "\n",
        "\n",
        "\n",
        "\n",
        "\n"
      ],
      "metadata": {
        "id": "vZPxGLUDcrE0"
      }
    }
  ]
}